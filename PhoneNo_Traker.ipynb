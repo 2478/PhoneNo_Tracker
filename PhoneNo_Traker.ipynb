{
 "cells": [
  {
   "cell_type": "code",
   "execution_count": 20,
   "metadata": {},
   "outputs": [],
   "source": [
    "import phonenumbers\n",
    "\n",
    "from phonenumbers import geocoder\n",
    "from tkinter import*\n",
    "from tkinter.ttk import*\n",
    "from tkinter.messagebox import*\n",
    "from phonenumbers import carrier\n",
    "\n",
    "Canvas=Tk()\n",
    "Canvas.title('Phone Number Tracker')\n",
    "\n",
    "def tracker():\n",
    "    ch_nmber = phonenumbers.parse(e1.get(),\"CH\")\n",
    "    q=Label(Canvas,text=(geocoder.description_for_number(ch_nmber,\"en\")),font=\"poppins 20\")\n",
    "    q.grid(row=2,column=2)\n",
    "    service_nmber=phonenumbers.parse(e1.get(),\"RO\")\n",
    "    p=Label(Canvas,text=(carrier.name_for_number(service_nmber,\"en\")),font=\"poppins 20\")\n",
    "    p.grid(row=3,column=2)\n",
    "    \n",
    "\n",
    "label0=Label(Canvas,text=\"Phone Number Tracker\",font=\"time 20\",borderwidth=5, relief=\"ridge\",foreground=\"black\",background=\"pink\")\n",
    "label0.grid(row=0,column=1,columnspan=3,pady=5)\n",
    "\n",
    "label1=Label(Canvas,text=\"Enter Phone Number :\",font=\"poppins 10\")\n",
    "label1.grid(row=1,column=1)\n",
    "e1=Entry(Canvas,width=30,font=\"poppins 10\",background=\"gray\")\n",
    "e1.grid(row=1,column=2)\n",
    "\n",
    "q1=Label(Canvas,text=\"Country Name : \",font=\"poppins 10\")\n",
    "q1.grid(row=2,column=1)\n",
    "p1=Label(Canvas,text=\"Service Provider :\",font=\"poppins 10\")\n",
    "p1.grid(row=3,column=1)\n",
    "\n",
    "btn=Button(Canvas,text=\"Track\",command=tracker,width=15)\n",
    "btn.grid(row=1,column=3,padx=5)\n",
    "Canvas.mainloop()"
   ]
  },
  {
   "cell_type": "code",
   "execution_count": null,
   "metadata": {},
   "outputs": [],
   "source": []
  }
 ],
 "metadata": {
  "kernelspec": {
   "display_name": "Python 3",
   "language": "python",
   "name": "python3"
  },
  "language_info": {
   "codemirror_mode": {
    "name": "ipython",
    "version": 3
   },
   "file_extension": ".py",
   "mimetype": "text/x-python",
   "name": "python",
   "nbconvert_exporter": "python",
   "pygments_lexer": "ipython3",
   "version": "3.8.5"
  }
 },
 "nbformat": 4,
 "nbformat_minor": 4
}
